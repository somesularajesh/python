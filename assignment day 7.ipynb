{
 "cells": [
  {
   "cell_type": "markdown",
   "metadata": {},
   "source": [
    "# programm 1"
   ]
  },
  {
   "cell_type": "markdown",
   "metadata": {},
   "source": [
    "# map()"
   ]
  },
  {
   "cell_type": "code",
   "execution_count": 1,
   "metadata": {},
   "outputs": [
    {
     "name": "stdout",
     "output_type": "stream",
     "text": [
      "[1, 8, 27, 64, 125, 216, 343]\n"
     ]
    }
   ],
   "source": [
    "#notebook with examples of map() and lambda()\n",
    "#1\n",
    "def cube(a):\n",
    "    return a*a*a\n",
    "x=map(cube,[1,2,3,4,5,6,7])\n",
    "print(list(x))"
   ]
  },
  {
   "cell_type": "code",
   "execution_count": 2,
   "metadata": {},
   "outputs": [
    {
     "name": "stdout",
     "output_type": "stream",
     "text": [
      "[1, 4, 9, 16, 25, 36, 49]\n"
     ]
    }
   ],
   "source": [
    "#2\n",
    "def prod(a,b):\n",
    "    return a*b\n",
    "x=map(prod,[1,2,3,4,5,6,7],[1,2,3,4,5,6,7])\n",
    "print(list(x))"
   ]
  },
  {
   "cell_type": "code",
   "execution_count": 3,
   "metadata": {},
   "outputs": [
    {
     "name": "stdout",
     "output_type": "stream",
     "text": [
      "<class 'map'>\n",
      "[10, 9, 89, 48, 9]\n"
     ]
    }
   ],
   "source": [
    "#3\n",
    "def sum(a,b):\n",
    "    return a+b\n",
    "x=map(sum,[1,2,3,4,5],[9,7,86,44,4])\n",
    "print(type(x))\n",
    "print(list(x))"
   ]
  },
  {
   "cell_type": "code",
   "execution_count": 4,
   "metadata": {},
   "outputs": [
    {
     "name": "stdout",
     "output_type": "stream",
     "text": [
      "[1.0, 2.0, 3.0, 4.0, 5.0, 6.0, 7.0, 8.0, 9.0, 10.0]\n"
     ]
    }
   ],
   "source": [
    "#4\n",
    "import math\n",
    "def sqrt(a):\n",
    "    return math.sqrt(a)\n",
    "x=map(sqrt,[1,4,9,16,25,36,49,64,81,100])\n",
    "print(list(x))"
   ]
  },
  {
   "cell_type": "markdown",
   "metadata": {},
   "source": [
    "# lambda()"
   ]
  },
  {
   "cell_type": "code",
   "execution_count": 5,
   "metadata": {},
   "outputs": [
    {
     "name": "stdout",
     "output_type": "stream",
     "text": [
      "[1, 2, 3, 4, 5, 6]\n",
      "(1, 2, 3, 4, 5, 6)\n",
      "{1, 2, 3, 4, 5, 6}\n"
     ]
    }
   ],
   "source": [
    "#5\n",
    "x=lambda a:a*a*a\n",
    "x=[1,2,3,4,5,6]\n",
    "print(list(x))\n",
    "print(tuple(x))\n",
    "print(set(x))"
   ]
  },
  {
   "cell_type": "code",
   "execution_count": 6,
   "metadata": {},
   "outputs": [
    {
     "name": "stdout",
     "output_type": "stream",
     "text": [
      "25\n",
      "5000\n"
     ]
    }
   ],
   "source": [
    "#6\n",
    "def prod(a):\n",
    "    return lambda x:x*a\n",
    "b=prod(5)\n",
    "print(b(5))\n",
    "print(b(1000))"
   ]
  },
  {
   "cell_type": "markdown",
   "metadata": {},
   "source": [
    "# filter()"
   ]
  },
  {
   "cell_type": "code",
   "execution_count": 18,
   "metadata": {},
   "outputs": [
    {
     "name": "stdout",
     "output_type": "stream",
     "text": [
      "[3, 4, 5]\n"
     ]
    }
   ],
   "source": [
    "#7\n",
    "#user defined function\n",
    "def great(a):\n",
    "    if a>=3:\n",
    "        return a\n",
    "l=[1,2,3,4,5]\n",
    "sqr=filter(great,l)\n",
    "print(list(sqr))"
   ]
  },
  {
   "cell_type": "code",
   "execution_count": 19,
   "metadata": {},
   "outputs": [
    {
     "name": "stdout",
     "output_type": "stream",
     "text": [
      "[3, 4, 5]\n"
     ]
    }
   ],
   "source": [
    "#8\n",
    "#using lambda in filter\n",
    "l=[1,2,3,4,5]\n",
    "sqr=filter(lambda a:a>=3,l)\n",
    "print(list(sqr))"
   ]
  },
  {
   "cell_type": "code",
   "execution_count": 23,
   "metadata": {},
   "outputs": [
    {
     "name": "stdout",
     "output_type": "stream",
     "text": [
      "(1, 2, 3, 4, 5, 6, 7, 8, 9)\n"
     ]
    }
   ],
   "source": [
    "#9\n",
    "t=(1,2,3,4,5,6,7,8,9)\n",
    "cube=filter(lambda a:a*a*a,t)\n",
    "print(tuple(cube))"
   ]
  },
  {
   "cell_type": "code",
   "execution_count": 46,
   "metadata": {},
   "outputs": [
    {
     "name": "stdout",
     "output_type": "stream",
     "text": [
      "[25, 100]\n"
     ]
    }
   ],
   "source": [
    "#10\n",
    "def divide(a):\n",
    "    if a%5==0:\n",
    "        return a\n",
    "l=[1,4,9,16,25,36,49,64,91,100]\n",
    "r=filter(divide,l)\n",
    "print(list(r))"
   ]
  },
  {
   "cell_type": "markdown",
   "metadata": {},
   "source": [
    "# reduce()"
   ]
  },
  {
   "cell_type": "code",
   "execution_count": 47,
   "metadata": {},
   "outputs": [
    {
     "name": "stdout",
     "output_type": "stream",
     "text": [
      "55\n"
     ]
    }
   ],
   "source": [
    "#11\n",
    "from functools import reduce\n",
    "def add(a,b):\n",
    "    return a+b\n",
    "l=[1,2,3,4,5,6,7,8,9,10]\n",
    "x=reduce(add,l)\n",
    "print(x)"
   ]
  },
  {
   "cell_type": "code",
   "execution_count": 48,
   "metadata": {},
   "outputs": [
    {
     "data": {
      "text/plain": [
       "55"
      ]
     },
     "execution_count": 48,
     "metadata": {},
     "output_type": "execute_result"
    }
   ],
   "source": [
    "#12\n",
    "x=reduce(lambda x,y:x+y,[1,2,3,4,5,6,7,8,9,10])\n",
    "x"
   ]
  },
  {
   "cell_type": "code",
   "execution_count": 49,
   "metadata": {},
   "outputs": [
    {
     "data": {
      "text/plain": [
       "120"
      ]
     },
     "execution_count": 49,
     "metadata": {},
     "output_type": "execute_result"
    }
   ],
   "source": [
    "#13\n",
    "def mult(a,b):\n",
    "    return a*b\n",
    "l=[1,2,3,4,5]\n",
    "m=reduce(mult,l)\n",
    "print(m)"
   ]
  },
  {
   "cell_type": "code",
   "execution_count": 52,
   "metadata": {},
   "outputs": [
    {
     "name": "stdout",
     "output_type": "stream",
     "text": [
      "[8, 10, 12, 14, 16, 18]\n"
     ]
    }
   ],
   "source": [
    "#14\n",
    "#filter within map\n",
    "x=map(lambda x:x+x,filter(lambda x:x>3,[1,2,3,4,5,6,7,8,9]))\n",
    "print(list(x))"
   ]
  },
  {
   "cell_type": "code",
   "execution_count": 53,
   "metadata": {},
   "outputs": [
    {
     "name": "stdout",
     "output_type": "stream",
     "text": [
      "[4, 5, 6, 7, 8, 9, 10, 11, 12]\n"
     ]
    }
   ],
   "source": [
    "#15\n",
    "#map within filter \n",
    "x=filter(lambda x:x>=3,map(lambda x:x+3,[1,2,3,4,5,6,7,8,9]))\n",
    "print(list(x))"
   ]
  },
  {
   "cell_type": "code",
   "execution_count": 54,
   "metadata": {},
   "outputs": [
    {
     "name": "stdout",
     "output_type": "stream",
     "text": [
      "56\n"
     ]
    }
   ],
   "source": [
    "#16\n",
    "#map and filter within reduce\n",
    "x=reduce(lambda x,y:x*y,map(lambda x:x+3,filter(lambda x:x>3,[1,2,3,4,5])))\n",
    "print(x)"
   ]
  },
  {
   "cell_type": "markdown",
   "metadata": {},
   "source": [
    "# programm 2"
   ]
  },
  {
   "cell_type": "code",
   "execution_count": 1,
   "metadata": {},
   "outputs": [
    {
     "name": "stdout",
     "output_type": "stream",
     "text": [
      "Enter any number: 12345\n",
      "Sum of all digits of 12345 is 6\n"
     ]
    }
   ],
   "source": [
    "#programm  to find the sum of digits of a number untill it gets to single digit\n",
    "num = int(input(\"Enter any number: \"))\n",
    "sum = 0\n",
    "temp = num\n",
    "while num > 0: \n",
    "    rem = num % 10\n",
    "    sum = rem+sum\n",
    "    num = num//10\n",
    "    if num==0 and sum>9:\n",
    "        num=sum\n",
    "        sum=0\n",
    "print(\"Sum of all digits of\", temp, \"is\", sum)  "
   ]
  },
  {
   "cell_type": "code",
   "execution_count": null,
   "metadata": {},
   "outputs": [],
   "source": []
  },
  {
   "cell_type": "code",
   "execution_count": null,
   "metadata": {},
   "outputs": [],
   "source": []
  }
 ],
 "metadata": {
  "kernelspec": {
   "display_name": "Python 3",
   "language": "python",
   "name": "python3"
  },
  "language_info": {
   "codemirror_mode": {
    "name": "ipython",
    "version": 3
   },
   "file_extension": ".py",
   "mimetype": "text/x-python",
   "name": "python",
   "nbconvert_exporter": "python",
   "pygments_lexer": "ipython3",
   "version": "3.7.4"
  }
 },
 "nbformat": 4,
 "nbformat_minor": 2
}
