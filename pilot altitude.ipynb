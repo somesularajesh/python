{
 "cells": [
  {
   "cell_type": "code",
   "execution_count": 17,
   "metadata": {},
   "outputs": [
    {
     "name": "stdout",
     "output_type": "stream",
     "text": [
      "enter present altitude5626\n",
      "5626\n",
      "turn around\n"
     ]
    }
   ],
   "source": [
    "a=int(input(\"enter present altitude \"))\n",
    "print(a)\n",
    "if a<0:\n",
    "    print(\"enter valid altitude\")\n",
    "if a>0 and a<=1000:\n",
    "    print(\"you are safe to land\")\n",
    "if a>1000 and a<=5000:\n",
    "    print(\"bring it under 1000\")\n",
    "if a>5000:\n",
    "    print(\"turn around\")\n",
    "    \n",
    "    "
   ]
  },
  {
   "cell_type": "code",
   "execution_count": null,
   "metadata": {},
   "outputs": [],
   "source": []
  },
  {
   "cell_type": "code",
   "execution_count": null,
   "metadata": {},
   "outputs": [],
   "source": []
  }
 ],
 "metadata": {
  "kernelspec": {
   "display_name": "Python 3",
   "language": "python",
   "name": "python3"
  },
  "language_info": {
   "codemirror_mode": {
    "name": "ipython",
    "version": 3
   },
   "file_extension": ".py",
   "mimetype": "text/x-python",
   "name": "python",
   "nbconvert_exporter": "python",
   "pygments_lexer": "ipython3",
   "version": "3.7.4"
  }
 },
 "nbformat": 4,
 "nbformat_minor": 2
}
