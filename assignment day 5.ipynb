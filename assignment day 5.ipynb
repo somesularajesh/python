{
 "cells": [
  {
   "cell_type": "markdown",
   "metadata": {},
   "source": [
    "# program 1"
   ]
  },
  {
   "cell_type": "code",
   "execution_count": 4,
   "metadata": {},
   "outputs": [
    {
     "name": "stdout",
     "output_type": "stream",
     "text": [
      "enter number upto which squares has to be printed\n",
      "5\n",
      "{1: 1, 2: 4, 3: 9, 4: 16, 5: 25}\n"
     ]
    }
   ],
   "source": [
    "# Python program to generate and print dictionary of numbers and its squares \n",
    "print(\"enter number upto which squares has to be printed\")\n",
    "n=int(input())\n",
    "dict= {} \n",
    "for i in range(1, n+1):\n",
    "    dict[i] = i * i\n",
    "print (dict)"
   ]
  },
  {
   "cell_type": "markdown",
   "metadata": {},
   "source": [
    "# program 2"
   ]
  },
  {
   "cell_type": "code",
   "execution_count": 11,
   "metadata": {},
   "outputs": [
    {
     "name": "stdout",
     "output_type": "stream",
     "text": [
      "enter your start and end number which list has to be splitted with a space in between:\n",
      "2 6\n",
      "3\n",
      "4\n",
      "5\n",
      "6\n"
     ]
    }
   ],
   "source": [
    "list_1=[]\n",
    "n=50\n",
    "for i in range(1,n+1,1):\n",
    "    list_1.append(i)\n",
    "# if u wish to print the list then add below print statement\n",
    "# print(list_1)\n",
    "print(\"enter your start and end number which list has to be splitted with a space in between:\")\n",
    "a,b=input().split()\n",
    "a=int(a)\n",
    "b=int(b)\n",
    "x=list_1[a:b]\n",
    "for i in range(len(x)):\n",
    "    print(x[i])"
   ]
  },
  {
   "cell_type": "code",
   "execution_count": null,
   "metadata": {},
   "outputs": [],
   "source": []
  },
  {
   "cell_type": "code",
   "execution_count": null,
   "metadata": {},
   "outputs": [],
   "source": []
  }
 ],
 "metadata": {
  "kernelspec": {
   "display_name": "Python 3",
   "language": "python",
   "name": "python3"
  },
  "language_info": {
   "codemirror_mode": {
    "name": "ipython",
    "version": 3
   },
   "file_extension": ".py",
   "mimetype": "text/x-python",
   "name": "python",
   "nbconvert_exporter": "python",
   "pygments_lexer": "ipython3",
   "version": "3.7.4"
  }
 },
 "nbformat": 4,
 "nbformat_minor": 2
}
