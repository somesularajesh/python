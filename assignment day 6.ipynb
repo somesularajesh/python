{
 "cells": [
  {
   "cell_type": "markdown",
   "metadata": {},
   "source": [
    "# program 1"
   ]
  },
  {
   "cell_type": "code",
   "execution_count": 2,
   "metadata": {},
   "outputs": [
    {
     "name": "stdout",
     "output_type": "stream",
     "text": [
      "enter your text:rajesh SOMESULA\n",
      "RAJESH SOMESULA\n",
      "Number of holes in the text given are= 4\n"
     ]
    }
   ],
   "source": [
    "#program to count no of holes in a text which is in fully uppercase\n",
    "string=input(\"enter your text:\")\n",
    "s=string.upper()\n",
    "print(s)\n",
    "list=[\"A\",\"D\",\"O\",\"P\",\"Q\",\"R\"]\n",
    "list2=[\"B\"]\n",
    "count=0\n",
    "for i in s:\n",
    "    if i in list:\n",
    "        count=count+1\n",
    "    if i in list2:\n",
    "            count=count+2\n",
    "print(\"Number of holes in the text given are=\",count)\n"
   ]
  },
  {
   "cell_type": "raw",
   "metadata": {},
   "source": [
    "# program to check no of holes in a text which is in both upper and lower case letters\n",
    "string=input(\"enter your text:\")\n",
    "list=[\"A\",\"D\",\"O\",\"P\",\"Q\",\"R\",\"a\",\"b\",\"d\",\"e\",\"o\",\"p\",\"q\"]\n",
    "list2=[\"B\",\"g\"]\n",
    "count=0\n",
    "for i in string:\n",
    "    if i in list:\n",
    "        count=count+1\n",
    "    if i in list2:\n",
    "            count=count+2\n",
    "print(\"Number of holes in the text given are=\",count)"
   ]
  },
  {
   "cell_type": "markdown",
   "metadata": {},
   "source": [
    "# programm 2"
   ]
  },
  {
   "cell_type": "code",
   "execution_count": 4,
   "metadata": {},
   "outputs": [
    {
     "name": "stdout",
     "output_type": "stream",
     "text": [
      "[1, 8, 27, 64, 125, 216, 343]\n"
     ]
    }
   ],
   "source": [
    "#notebook with examples of map() and lambda()\n",
    "#1\n",
    "def cube(a):\n",
    "    return a*a*a\n",
    "x=map(cube,[1,2,3,4,5,6,7])\n",
    "print(list(x))"
   ]
  },
  {
   "cell_type": "code",
   "execution_count": 2,
   "metadata": {},
   "outputs": [
    {
     "name": "stdout",
     "output_type": "stream",
     "text": [
      "[1, 4, 9, 16, 25, 36, 49]\n"
     ]
    }
   ],
   "source": [
    "#2\n",
    "def prod(a,b):\n",
    "    return a*b\n",
    "x=map(prod,[1,2,3,4,5,6,7],[1,2,3,4,5,6,7])\n",
    "print(list(x))"
   ]
  },
  {
   "cell_type": "code",
   "execution_count": 5,
   "metadata": {},
   "outputs": [
    {
     "name": "stdout",
     "output_type": "stream",
     "text": [
      "<class 'map'>\n",
      "[10, 9, 89, 48, 9]\n"
     ]
    }
   ],
   "source": [
    "#3\n",
    "def sum(a,b):\n",
    "    return a+b\n",
    "x=map(sum,[1,2,3,4,5],[9,7,86,44,4])\n",
    "print(type(x))\n",
    "print(list(x))\n"
   ]
  },
  {
   "cell_type": "code",
   "execution_count": 1,
   "metadata": {},
   "outputs": [
    {
     "name": "stdout",
     "output_type": "stream",
     "text": [
      "[1.0, 2.0, 3.0, 4.0, 5.0, 6.0, 7.0, 8.0, 9.0, 10.0]\n"
     ]
    }
   ],
   "source": [
    "#4\n",
    "import math\n",
    "def sqrt(a):\n",
    "    return math.sqrt(a)\n",
    "x=map(sqrt,[1,4,9,16,25,36,49,64,81,100])\n",
    "print(list(x))"
   ]
  },
  {
   "cell_type": "code",
   "execution_count": 2,
   "metadata": {},
   "outputs": [
    {
     "name": "stdout",
     "output_type": "stream",
     "text": [
      "[1, 2, 3, 4, 5, 6]\n",
      "(1, 2, 3, 4, 5, 6)\n",
      "{1, 2, 3, 4, 5, 6}\n"
     ]
    }
   ],
   "source": [
    "#5\n",
    "x=lambda a:a*a*a\n",
    "x=[1,2,3,4,5,6]\n",
    "print(list(x))\n",
    "print(tuple(x))\n",
    "print(set(x))"
   ]
  },
  {
   "cell_type": "code",
   "execution_count": 13,
   "metadata": {},
   "outputs": [
    {
     "name": "stdout",
     "output_type": "stream",
     "text": [
      "25\n",
      "5000\n"
     ]
    }
   ],
   "source": [
    "#6\n",
    "def prod(a):\n",
    "    return lambda x:x*a\n",
    "b=prod(5)\n",
    "print(b(5))\n",
    "print(b(1000))"
   ]
  },
  {
   "cell_type": "code",
   "execution_count": null,
   "metadata": {},
   "outputs": [],
   "source": []
  }
 ],
 "metadata": {
  "kernelspec": {
   "display_name": "Python 3",
   "language": "python",
   "name": "python3"
  },
  "language_info": {
   "codemirror_mode": {
    "name": "ipython",
    "version": 3
   },
   "file_extension": ".py",
   "mimetype": "text/x-python",
   "name": "python",
   "nbconvert_exporter": "python",
   "pygments_lexer": "ipython3",
   "version": "3.7.4"
  }
 },
 "nbformat": 4,
 "nbformat_minor": 2
}
