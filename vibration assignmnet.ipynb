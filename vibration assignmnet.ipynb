{
 "cells": [
  {
   "cell_type": "markdown",
   "metadata": {},
   "source": [
    "# 5.7.2"
   ]
  },
  {
   "cell_type": "code",
   "execution_count": 12,
   "metadata": {},
   "outputs": [
    {
     "name": "stdout",
     "output_type": "stream",
     "text": [
      "enter the time period ?\n",
      "220\n",
      "w1= 23.246666666666666 rad/s\n",
      "w2= 23.246666666666666 rad/s\n",
      "m2=1/980 kg-sec^2/cm\n",
      "k2= 0.5514362358276643 kg/cm\n",
      "wn1= 18.84\n",
      "wn2= 27.004\n",
      "when w= wn1= 18.84 u=0.100\n",
      "when w=wn2 27.004 u=0.104\n",
      "u=(w2/w1)= 0.10200000000000001\n",
      "W1= 9.803921568627452 kg\n",
      "k1= 5.406237606153572 kg/cm\n",
      "mu1= 0.6818181818181818\n",
      "mu2= 1.4090909090909092\n",
      "W2= 6.07843137254902 kg\n",
      "k2= 3.3518673158152144 kg/cm\n"
     ]
    }
   ],
   "source": [
    "# A section of pipe  pertaining to a certain machine vibrates with large amplitude at a compressor speed of 220 RPM.\n",
    "#For analysing this sysytem ,a spring mass sysytem was suspended from the pipe to act as an absorber .A 1 kg absorber weight tuned\n",
    "#to 220 cpm resulted in two resonant freqncies of 188 and 258 cpm.What must be the weight and the spring stiffness of the absorber if the resonanot frequwncies \n",
    "# are to lie outside the range of 150 to 310 cpm?\n",
    "print(\"enter the time period ?\")\n",
    "t1=int(input())\n",
    "w1=(t1*2*3.17)/60\n",
    "print(\"w1=\",w1,\"rad/s\")\n",
    "w2=w1\n",
    "print(\"w2=\",w2,\"rad/s\")\n",
    "m2=1/980\n",
    "print(\"m2=1/980\"+\" \"+\"kg-sec^2/cm\")\n",
    "k2=m2*w2**2\n",
    "print(\"k2=\",k2,\"kg/cm\")\n",
    "wn1=(180*2*3.14)/60\n",
    "wn2=(258*2*3.14)/60\n",
    "print(\"wn1=\",wn1)\n",
    "print(\"wn2=\",wn2)\n",
    "#for w2=w1 , we apply eq 5.7.15 to find u by taking first w=wn1 and w=wn2\n",
    "print(\"when w= wn1=\",wn1,\"u=0.100\")\n",
    "print(\"when w=wn2\",wn2,\"u=0.104\")\n",
    "#the average of u is\n",
    "u=(0.1+0.104)/2\n",
    "print(\"u=(w2/w1)=\",u)\n",
    "#therefore\n",
    "W2=1\n",
    "W1=W2/0.102\n",
    "print(\"W1=\",W1,\"kg\")\n",
    "k1=k2/0.102\n",
    "print(\"k1=\",k1,\"kg/cm\")\n",
    "#now finding mu values\n",
    "mu1=150/220\n",
    "print(\"mu1=\",mu1)\n",
    "mu2=310/220\n",
    "print(\"mu2=\",mu2)\n",
    "#mu lies in range of 0.62 and 0.493\n",
    "mu=0.62\n",
    "W2=mu*W1\n",
    "K2=mu*k1\n",
    "print(\"W2=\",W2,\"kg\")\n",
    "print(\"k2=\",K2,\"kg/cm\")\n",
    "      \n",
    "\n",
    "\n"
   ]
  },
  {
   "cell_type": "code",
   "execution_count": null,
   "metadata": {},
   "outputs": [],
   "source": []
  }
 ],
 "metadata": {
  "kernelspec": {
   "display_name": "Python 3",
   "language": "python",
   "name": "python3"
  },
  "language_info": {
   "codemirror_mode": {
    "name": "ipython",
    "version": 3
   },
   "file_extension": ".py",
   "mimetype": "text/x-python",
   "name": "python",
   "nbconvert_exporter": "python",
   "pygments_lexer": "ipython3",
   "version": "3.7.4"
  }
 },
 "nbformat": 4,
 "nbformat_minor": 2
}
