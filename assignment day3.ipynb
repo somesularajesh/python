{
 "cells": [
  {
   "cell_type": "markdown",
   "metadata": {},
   "source": [
    "# PROGRAMM 1"
   ]
  },
  {
   "cell_type": "code",
   "execution_count": 4,
   "metadata": {},
   "outputs": [
    {
     "name": "stdout",
     "output_type": "stream",
     "text": [
      "ENTER YOUR MARKS? 100\n",
      "congrats,you got A grade\n"
     ]
    }
   ],
   "source": [
    "#programm for grade of a student\n",
    "\n",
    "a=int(input(\"ENTER YOUR MARKS? \"))\n",
    "if a>100 or a<0 :\n",
    "    print(\"MARKS ARE NOT VALID\")\n",
    "elif a>=91 and a<=100:\n",
    "    print(\"congrats,you got A grade\")\n",
    "elif a>=81 and a<=90:\n",
    "    print(\"welldone,you got B grade\")\n",
    "elif a>=71 and a<=80:\n",
    "    print(\"Good,you got C grade\")\n",
    "elif a>=61 and a<=70:\n",
    "    print(\"Nice,you got D grade\")\n",
    "elif a>=51 and a<=60:\n",
    "    print(\"You got E grade\")\n",
    "else:\n",
    "    print(\"you have FAILED, Better luck next time\")\n",
    "\n"
   ]
  },
  {
   "cell_type": "markdown",
   "metadata": {},
   "source": [
    "# PROGRAMM 2"
   ]
  },
  {
   "cell_type": "code",
   "execution_count": 46,
   "metadata": {},
   "outputs": [
    {
     "name": "stdout",
     "output_type": "stream",
     "text": [
      "Enter your score? 126\n",
      "you wont watch cricket MORE,I THINK\n"
     ]
    }
   ],
   "source": [
    "#programm to guess the 20-20 match cricket score\n",
    "\n",
    "import random\n",
    "a=random.randint(1,250)\n",
    "b=int(input(\"Enter your score? \"))\n",
    "if b==a:\n",
    "    print(\"You are the true cricket fan\")\n",
    "elif b<0:\n",
    "    print(\"Not a valid score\")\n",
    "elif b<1 or b>250:\n",
    "    print(\"Reduce your expectations for 20-20 cricket\")\n",
    "elif b<=a+10 and b>=a-10:\n",
    "    print(\" Close by,You are a fan of cricket\")\n",
    "else:\n",
    "    print(\"you wont watch cricket MORE,I THINK\")\n",
    "\n",
    "    \n"
   ]
  },
  {
   "cell_type": "code",
   "execution_count": null,
   "metadata": {},
   "outputs": [],
   "source": []
  },
  {
   "cell_type": "code",
   "execution_count": null,
   "metadata": {},
   "outputs": [],
   "source": []
  }
 ],
 "metadata": {
  "kernelspec": {
   "display_name": "Python 3",
   "language": "python",
   "name": "python3"
  },
  "language_info": {
   "codemirror_mode": {
    "name": "ipython",
    "version": 3
   },
   "file_extension": ".py",
   "mimetype": "text/x-python",
   "name": "python",
   "nbconvert_exporter": "python",
   "pygments_lexer": "ipython3",
   "version": "3.7.4"
  }
 },
 "nbformat": 4,
 "nbformat_minor": 2
}
