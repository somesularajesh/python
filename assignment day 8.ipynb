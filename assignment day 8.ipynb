{
 "cells": [
  {
   "cell_type": "markdown",
   "metadata": {},
   "source": [
    "# PROGRAMM 1"
   ]
  },
  {
   "cell_type": "code",
   "execution_count": 5,
   "metadata": {},
   "outputs": [
    {
     "name": "stdout",
     "output_type": "stream",
     "text": [
      "enter any number containing only 1's and 0's ?101\n",
      "YES\n"
     ]
    }
   ],
   "source": [
    "#program to convert a number containing only 1's and 0's to number with all 1's or all 0's changing only one digit in the input \n",
    "#number\n",
    "num=int(input(\"enter any number containing only 1's and 0's ?\"))\n",
    "temp=num\n",
    "n1=0\n",
    "n0=0\n",
    "while num>0:\n",
    "    rem=num%10\n",
    "    num=num//10\n",
    "    if rem==1:\n",
    "        n1=n1+1\n",
    "    else:\n",
    "        n0=n0+1\n",
    "if n1==1 or n0==1:\n",
    "    print(\"YES\")\n",
    "else:\n",
    "    print(\"NO\")"
   ]
  },
  {
   "cell_type": "code",
   "execution_count": null,
   "metadata": {},
   "outputs": [],
   "source": []
  }
 ],
 "metadata": {
  "kernelspec": {
   "display_name": "Python 3",
   "language": "python",
   "name": "python3"
  },
  "language_info": {
   "codemirror_mode": {
    "name": "ipython",
    "version": 3
   },
   "file_extension": ".py",
   "mimetype": "text/x-python",
   "name": "python",
   "nbconvert_exporter": "python",
   "pygments_lexer": "ipython3",
   "version": "3.7.4"
  }
 },
 "nbformat": 4,
 "nbformat_minor": 2
}
